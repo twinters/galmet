{
 "cells": [
  {
   "cell_type": "code",
   "execution_count": 1,
   "metadata": {
    "collapsed": true
   },
   "outputs": [],
   "source": [
    "import pickle\n",
    "from galmet.galmet import Galmet\n",
    "import galmet.genetictransformer as gt"
   ]
  },
  {
   "cell_type": "markdown",
   "source": [
    "## Load Transformer Encoder models"
   ],
   "metadata": {
    "collapsed": false,
    "pycharm": {
     "name": "#%% md\n"
    }
   }
  },
  {
   "cell_type": "code",
   "execution_count": null,
   "outputs": [],
   "source": [
    "masker = gt.load_masker(\"../models/roberta-satire-v0.1/\")\n",
    "regression = gt.load_regression(\"../models/regression-v0.2/\")"
   ],
   "metadata": {
    "collapsed": false,
    "pycharm": {
     "name": "#%%\n",
     "is_executing": true
    }
   }
  },
  {
   "cell_type": "markdown",
   "source": [
    "## Create GALMET model\n"
   ],
   "metadata": {
    "collapsed": false
   }
  },
  {
   "cell_type": "code",
   "execution_count": null,
   "outputs": [],
   "source": [
    "galmet = Galmet(masker=masker, regression=regression,\n",
    "                crossover_prob = 0.2,\n",
    "                total_mutation_prob = 0.8,\n",
    "                population_size = 50,\n",
    "                nb_generations = 50,\n",
    "                goal_fitness = .99,\n",
    "                max_edit_distance = 5,\n",
    "                max_elites = 6,\n",
    "                elite_duplicates = 3,\n",
    "                mutate_token_prob = 0.7,\n",
    "                add_token_prob = 0.05,\n",
    "                remove_token_prob = 0.05)"
   ],
   "metadata": {
    "collapsed": false,
    "pycharm": {
     "name": "#%%\n",
     "is_executing": true
    }
   }
  },
  {
   "cell_type": "code",
   "execution_count": null,
   "outputs": [],
   "source": [
    "sentence = \"One Number to Gauge Where the Economy Is Headed\"\n",
    "best, hof, logbook = galmet.evolve_text(sentence, print_logbook=True, print_final_population=True)\n",
    "\n",
    "print(\"\\n\\nChosen:\", best)\n",
    "\n",
    "print(\"\\n\\nHall of fame (= Pareto Front):\")\n",
    "for h in reversed(hof):\n",
    "    edit_distance = abs(-h.fitness.values[1])\n",
    "    print(int(edit_distance), '%f' % h.fitness.values[0], masker.detokenize_sentence(h))\n",
    "\n",
    "with open(\"./logbook.pickle\", 'wb') as pickle_out:\n",
    "    pickle.dump(logbook, pickle_out)"
   ],
   "metadata": {
    "collapsed": false,
    "pycharm": {
     "name": "#%%\n",
     "is_executing": true
    }
   }
  },
  {
   "cell_type": "code",
   "execution_count": null,
   "outputs": [],
   "source": [
    "with  open(\"./logbook.pickle\", 'rb') as pickle_in:\n",
    "    print(\"Read logbook from pickle\")\n",
    "    logbook = pickle.load(pickle_in)"
   ],
   "metadata": {
    "collapsed": false,
    "pycharm": {
     "name": "#%%\n",
     "is_executing": true
    }
   }
  },
  {
   "cell_type": "code",
   "execution_count": null,
   "outputs": [],
   "source": [
    "gen = logbook.select(\"gen\")\n",
    "# fit_mins = logbook.chapters[\"fitness\"].select(\"min\")\n",
    "fit_avg = logbook.chapters[\"fitness\"].select(\"avg\")\n",
    "fit_max = logbook.chapters[\"fitness\"].select(\"max\")\n",
    "dist_avgs = logbook.chapters[\"distance\"].select(\"avg\")\n",
    "dist_max = logbook.chapters[\"distance\"].select(\"max\")\n",
    "\n",
    "import matplotlib.pyplot as plt\n",
    "\n",
    "fig, ax1 = plt.subplots()\n",
    "fig.set_size_inches(18.5, 10.5)\n",
    "\n",
    "# Plot size\n",
    "ax2 = ax1.twinx()\n",
    "line_dist_avg = ax2.plot(gen, dist_avgs, \"b-\", label=\"Average Edit Distance\")\n",
    "line_dist_max = ax2.plot(gen, dist_max, \"g-\", label=\"Max Edit Distance\")\n",
    "ax2.set_ylabel(\"Edit Distance\", color=\"r\")\n",
    "# for tl in ax2.get_yticklabels():\n",
    "#     tl.set_color(\"r\")\n",
    "\n",
    "# Plot fitness\n",
    "line1 = ax1.plot(gen, fit_max, \"m-\", label=\"Maximum Fitness\")\n",
    "line2 = ax1.plot(gen, fit_avg, \"r-\", label=\"Average Fitness\")\n",
    "# line3 = ax1.plot(gen, fit_mins, \"b-\", label=\"Minimum Fitness\")\n",
    "ax1.set_xlabel(\"Generation\")\n",
    "ax1.set_ylabel(\"Fitness\", color=\"b\")\n",
    "# for tl in ax1.get_yticklabels():\n",
    "#     tl.set_color(\"b\")\n",
    "\n",
    "\n",
    "lns = line_dist_avg + line_dist_max + line1 + line2\n",
    "labs = [l.get_label() for l in lns]\n",
    "ax1.legend(lns, labs, loc=\"upper left\")\n",
    "\n",
    "plt.show()\n",
    "\n"
   ],
   "metadata": {
    "collapsed": false,
    "pycharm": {
     "name": "#%%\n",
     "is_executing": true
    }
   }
  },
  {
   "cell_type": "code",
   "execution_count": null,
   "outputs": [],
   "source": [
    "\n"
   ],
   "metadata": {
    "collapsed": false,
    "pycharm": {
     "name": "#%%\n",
     "is_executing": true
    }
   }
  }
 ],
 "metadata": {
  "kernelspec": {
   "name": "python3",
   "language": "python",
   "display_name": "Python 3 (ipykernel)"
  },
  "language_info": {
   "codemirror_mode": {
    "name": "ipython",
    "version": 2
   },
   "file_extension": ".py",
   "mimetype": "text/x-python",
   "name": "python",
   "nbconvert_exporter": "python",
   "pygments_lexer": "ipython2",
   "version": "2.7.6"
  }
 },
 "nbformat": 4,
 "nbformat_minor": 0
}